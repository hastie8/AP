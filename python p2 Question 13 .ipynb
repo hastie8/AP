{
  "cells": [
    {
      "cell_type": "markdown",
      "metadata": {
        "id": "view-in-github",
        "colab_type": "text"
      },
      "source": [
        "<a href=\"https://colab.research.google.com/github/hastie8/AP/blob/main/python%20p2%20Question%2013%20.ipynb\" target=\"_parent\"><img src=\"https://colab.research.google.com/assets/colab-badge.svg\" alt=\"Open In Colab\"/></a>"
      ]
    },
    {
      "cell_type": "code",
      "source": [
        "value = int (input(\" please enter integer number: \"))\n",
        "if 1 < value <= 100:\n",
        "  print(\" OK \")\n",
        "else:\n",
        "  print(\" Out of range \")"
      ],
      "metadata": {
        "id": "hNWYwrFRZDw0",
        "outputId": "14974d4b-20de-47d0-fcfb-8ea2f3bbf630",
        "colab": {
          "base_uri": "https://localhost:8080/"
        }
      },
      "execution_count": 11,
      "outputs": [
        {
          "output_type": "stream",
          "name": "stdout",
          "text": [
            " please enter integer number: 59\n",
            " OK \n"
          ]
        }
      ]
    },
    {
      "cell_type": "code",
      "source": [
        "value = int (input(\" please enter integer number: \"))\n",
        "if 1 < value <100:\n",
        "  print(\" OK \")\n",
        "else:\n",
        "  print(\" Out of range \")"
      ],
      "metadata": {
        "id": "VjU8N4W3bmSH",
        "outputId": "9549e545-0573-44f5-cf81-650a5d0cc280",
        "colab": {
          "base_uri": "https://localhost:8080/"
        }
      },
      "execution_count": 12,
      "outputs": [
        {
          "output_type": "stream",
          "name": "stdout",
          "text": [
            " please enter integer number: 180\n",
            " Out of range \n"
          ]
        }
      ]
    }
  ],
  "metadata": {
    "colab": {
      "name": "Welcome To Colaboratory",
      "toc_visible": true,
      "provenance": [],
      "include_colab_link": true
    },
    "kernelspec": {
      "display_name": "Python 3",
      "name": "python3"
    }
  },
  "nbformat": 4,
  "nbformat_minor": 0
}