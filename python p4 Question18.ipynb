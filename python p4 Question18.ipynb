{
  "cells": [
    {
      "cell_type": "markdown",
      "metadata": {
        "id": "view-in-github",
        "colab_type": "text"
      },
      "source": [
        "<a href=\"https://colab.research.google.com/github/hastie8/AP/blob/main/python%20p4%20Question18.ipynb\" target=\"_parent\"><img src=\"https://colab.research.google.com/assets/colab-badge.svg\" alt=\"Open In Colab\"/></a>"
      ]
    },
    {
      "cell_type": "code",
      "source": [
        "def next_number(lst):\n",
        "  lst.sort()\n",
        "  next_num = 1\n",
        "  for num in lst:\n",
        "    if num == next_num:\n",
        "       next_num += 1\n",
        "  return next_num"
      ],
      "metadata": {
        "id": "YOBNqckRq5Qr"
      },
      "execution_count": 93,
      "outputs": []
    },
    {
      "cell_type": "code",
      "source": [
        "print(next_number([5,3,1]))"
      ],
      "metadata": {
        "id": "dECWgdqss_YC",
        "outputId": "88ccc4ba-a4b1-4e9f-f191-943af6f0a589",
        "colab": {
          "base_uri": "https://localhost:8080/"
        }
      },
      "execution_count": 94,
      "outputs": [
        {
          "output_type": "stream",
          "name": "stdout",
          "text": [
            "2\n"
          ]
        }
      ]
    },
    {
      "cell_type": "code",
      "source": [
        "print(next_number([5,4,1,2]))"
      ],
      "metadata": {
        "id": "79yNf5HItAmI",
        "outputId": "99810718-f164-4317-9462-4b2a746d503f",
        "colab": {
          "base_uri": "https://localhost:8080/"
        }
      },
      "execution_count": 96,
      "outputs": [
        {
          "output_type": "stream",
          "name": "stdout",
          "text": [
            "3\n"
          ]
        }
      ]
    },
    {
      "cell_type": "code",
      "source": [
        "print(next_number([2,3]))"
      ],
      "metadata": {
        "id": "1qKCd5adtAwU",
        "outputId": "216affb5-1872-4554-8f36-8dcaffcd7bb8",
        "colab": {
          "base_uri": "https://localhost:8080/"
        }
      },
      "execution_count": 95,
      "outputs": [
        {
          "output_type": "stream",
          "name": "stdout",
          "text": [
            "1\n"
          ]
        }
      ]
    },
    {
      "cell_type": "code",
      "source": [
        "print(next_number([]))"
      ],
      "metadata": {
        "id": "WuJIzSoztA4n",
        "outputId": "63b6716f-bced-41bc-9fc6-d3e04d005002",
        "colab": {
          "base_uri": "https://localhost:8080/"
        }
      },
      "execution_count": 97,
      "outputs": [
        {
          "output_type": "stream",
          "name": "stdout",
          "text": [
            "1\n"
          ]
        }
      ]
    }
  ],
  "metadata": {
    "colab": {
      "name": "Welcome To Colaboratory",
      "toc_visible": true,
      "provenance": [],
      "include_colab_link": true
    },
    "kernelspec": {
      "display_name": "Python 3",
      "name": "python3"
    }
  },
  "nbformat": 4,
  "nbformat_minor": 0
}