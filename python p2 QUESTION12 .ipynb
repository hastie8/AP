{
  "cells": [
    {
      "cell_type": "markdown",
      "metadata": {
        "id": "view-in-github",
        "colab_type": "text"
      },
      "source": [
        "<a href=\"https://colab.research.google.com/github/hastie8/AP/blob/main/python%20p2%20QUESTION12%20.ipynb\" target=\"_parent\"><img src=\"https://colab.research.google.com/assets/colab-badge.svg\" alt=\"Open In Colab\"/></a>"
      ]
    },
    {
      "cell_type": "code",
      "source": [
        "value = int (input(\" please enter integer number: \"))\n",
        "if 1 < value <= 100:\n",
        "  print(\" OK \")"
      ],
      "metadata": {
        "colab": {
          "base_uri": "https://localhost:8080/"
        },
        "id": "Y98nS-aQYImj",
        "outputId": "8b50c0e7-447e-4e0b-b872-1b52a2221efe"
      },
      "execution_count": 23,
      "outputs": [
        {
          "output_type": "stream",
          "name": "stdout",
          "text": [
            " please enter integer number: 55\n",
            " OK \n"
          ]
        }
      ]
    },
    {
      "cell_type": "code",
      "source": [
        "value = int (input(\" please enter integer number: \"))\n",
        "if 1 < value <= 100:\n",
        "  print(\" OK \")\n"
      ],
      "metadata": {
        "colab": {
          "base_uri": "https://localhost:8080/"
        },
        "id": "RSj2p1nU1miw",
        "outputId": "4acc9eb3-9287-4fc6-f9bf-3c89bbd46de0"
      },
      "execution_count": 24,
      "outputs": [
        {
          "name": "stdout",
          "output_type": "stream",
          "text": [
            " please enter integer number: 129\n"
          ]
        }
      ]
    }
  ],
  "metadata": {
    "colab": {
      "name": "Welcome To Colaboratory",
      "toc_visible": true,
      "provenance": [],
      "include_colab_link": true
    },
    "kernelspec": {
      "display_name": "Python 3",
      "name": "python3"
    }
  },
  "nbformat": 4,
  "nbformat_minor": 0
}