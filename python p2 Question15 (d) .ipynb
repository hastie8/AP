{
  "cells": [
    {
      "cell_type": "markdown",
      "metadata": {
        "id": "view-in-github",
        "colab_type": "text"
      },
      "source": [
        "<a href=\"https://colab.research.google.com/github/hastie8/AP/blob/main/python%20p2%20Question15%20(d)%20.ipynb\" target=\"_parent\"><img src=\"https://colab.research.google.com/assets/colab-badge.svg\" alt=\"Open In Colab\"/></a>"
      ]
    },
    {
      "cell_type": "code",
      "source": [
        "i= 5\n",
        "j= 7\n",
        "k= 3\n",
        "# i , j , and k are numbers\n",
        "if  i < j:\n",
        "   if j < k:\n",
        "      i = j\n",
        "   else:\n",
        "      j = k\n",
        "else:\n",
        "   if j > k:\n",
        "      j = i\n",
        "   else:\n",
        "      i = k\n",
        "print(\" i = \", i ,\" j = \", j ,\" k = \", k )   "
      ],
      "metadata": {
        "id": "XlAls3NK6jVW",
        "outputId": "ff7f26e6-1ff7-4662-f3ca-6d4766966fbb",
        "colab": {
          "base_uri": "https://localhost:8080/"
        }
      },
      "execution_count": 28,
      "outputs": [
        {
          "output_type": "stream",
          "name": "stdout",
          "text": [
            " i =  5  j =  3  k =  3\n"
          ]
        }
      ]
    }
  ],
  "metadata": {
    "colab": {
      "name": "Welcome To Colaboratory",
      "toc_visible": true,
      "provenance": [],
      "include_colab_link": true
    },
    "kernelspec": {
      "display_name": "Python 3",
      "name": "python3"
    }
  },
  "nbformat": 4,
  "nbformat_minor": 0
}