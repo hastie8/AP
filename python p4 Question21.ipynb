{
  "cells": [
    {
      "cell_type": "markdown",
      "metadata": {
        "id": "view-in-github",
        "colab_type": "text"
      },
      "source": [
        "<a href=\"https://colab.research.google.com/github/hastie8/AP/blob/main/python%20p4%20Question21.ipynb\" target=\"_parent\"><img src=\"https://colab.research.google.com/assets/colab-badge.svg\" alt=\"Open In Colab\"/></a>"
      ]
    },
    {
      "cell_type": "code",
      "source": [
        "#1.Using a for loop :\n",
        "lst =[]\n",
        "for j in range(1,11):\n",
        "  lst.append(j)\n",
        "print(lst)"
      ],
      "metadata": {
        "id": "x8Ks2GZM-99w",
        "outputId": "1b68aee3-db93-43c3-859e-9d7654f36025",
        "colab": {
          "base_uri": "https://localhost:8080/"
        }
      },
      "execution_count": 152,
      "outputs": [
        {
          "output_type": "stream",
          "name": "stdout",
          "text": [
            "[1, 2, 3, 4, 5, 6, 7, 8, 9, 10]\n"
          ]
        }
      ]
    },
    {
      "cell_type": "code",
      "source": [
        "#2.Using list comperhension :\n",
        "lst =[j for j in range(1,11)] \n",
        "print (lst)"
      ],
      "metadata": {
        "id": "QVovTWiAAXKz",
        "outputId": "389f0e9e-ef9e-4fd1-ab50-75aa51e10dc6",
        "colab": {
          "base_uri": "https://localhost:8080/"
        }
      },
      "execution_count": 154,
      "outputs": [
        {
          "output_type": "stream",
          "name": "stdout",
          "text": [
            "[1, 2, 3, 4, 5, 6, 7, 8, 9, 10]\n"
          ]
        }
      ]
    },
    {
      "cell_type": "code",
      "source": [
        "#3.Using the range()function and the list()constructor :\n",
        "lst = list(range(1,11))\n",
        "print(lst)"
      ],
      "metadata": {
        "id": "Iy8B2YYwBDpM",
        "outputId": "7b99e9c3-3d12-4770-a021-b63026ebe76b",
        "colab": {
          "base_uri": "https://localhost:8080/"
        }
      },
      "execution_count": 155,
      "outputs": [
        {
          "output_type": "stream",
          "name": "stdout",
          "text": [
            "[1, 2, 3, 4, 5, 6, 7, 8, 9, 10]\n"
          ]
        }
      ]
    },
    {
      "cell_type": "code",
      "source": [
        "#4.Using the extend() method :\n",
        "lst = []\n",
        "lst.extend(range(1,11))\n",
        "print(lst)"
      ],
      "metadata": {
        "id": "LpRzGMfQB2ew",
        "outputId": "936599df-5c67-497f-8909-aa114c2068c5",
        "colab": {
          "base_uri": "https://localhost:8080/"
        }
      },
      "execution_count": 157,
      "outputs": [
        {
          "output_type": "stream",
          "name": "stdout",
          "text": [
            "[1, 2, 3, 4, 5, 6, 7, 8, 9, 10]\n"
          ]
        }
      ]
    },
    {
      "cell_type": "code",
      "source": [
        "#5.Using the * operator to unpack a tuple of numbers. :\n",
        "lst = [*range(1,11)]\n",
        "print(lst)"
      ],
      "metadata": {
        "id": "We3xiz5KCloo",
        "outputId": "97e5af95-43e5-43e4-802c-2dbd40cd2dde",
        "colab": {
          "base_uri": "https://localhost:8080/"
        }
      },
      "execution_count": 159,
      "outputs": [
        {
          "output_type": "stream",
          "name": "stdout",
          "text": [
            "[1, 2, 3, 4, 5, 6, 7, 8, 9, 10]\n"
          ]
        }
      ]
    }
  ],
  "metadata": {
    "colab": {
      "name": "Welcome To Colaboratory",
      "toc_visible": true,
      "provenance": [],
      "include_colab_link": true
    },
    "kernelspec": {
      "display_name": "Python 3",
      "name": "python3"
    }
  },
  "nbformat": 4,
  "nbformat_minor": 0
}