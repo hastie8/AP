{
  "cells": [
    {
      "cell_type": "markdown",
      "metadata": {
        "id": "view-in-github",
        "colab_type": "text"
      },
      "source": [
        "<a href=\"https://colab.research.google.com/github/hastie8/AP/blob/main/python%20p4%20Question15.ipynb\" target=\"_parent\"><img src=\"https://colab.research.google.com/assets/colab-badge.svg\" alt=\"Open In Colab\"/></a>"
      ]
    },
    {
      "cell_type": "code",
      "source": [
        "def sum_positiuve(a):\n",
        "  total = 0\n",
        "  for num in a:\n",
        "    if num > 0:\n",
        "      total += num\n",
        "  return total if a else 0\n",
        "\n"
      ],
      "metadata": {
        "id": "FahajNtDZjdu"
      },
      "execution_count": 51,
      "outputs": []
    }
  ],
  "metadata": {
    "colab": {
      "name": "Welcome To Colaboratory",
      "toc_visible": true,
      "provenance": [],
      "include_colab_link": true
    },
    "kernelspec": {
      "display_name": "Python 3",
      "name": "python3"
    }
  },
  "nbformat": 4,
  "nbformat_minor": 0
}