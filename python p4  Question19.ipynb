{
  "cells": [
    {
      "cell_type": "markdown",
      "metadata": {
        "id": "view-in-github",
        "colab_type": "text"
      },
      "source": [
        "<a href=\"https://colab.research.google.com/github/hastie8/AP/blob/main/python%20p4%20%20Question19.ipynb\" target=\"_parent\"><img src=\"https://colab.research.google.com/assets/colab-badge.svg\" alt=\"Open In Colab\"/></a>"
      ]
    },
    {
      "cell_type": "code",
      "source": [
        "def reverse(a):\n",
        "   start = 0\n",
        "   end = len(a) - 1\n",
        "   while start < end :\n",
        "     a[start],a[end] = a[end],a[start]\n",
        "     start += 1\n",
        "     end -= 1\n",
        "   return a  "
      ],
      "metadata": {
        "id": "yADaoWNHuVva"
      },
      "execution_count": 187,
      "outputs": []
    }
  ],
  "metadata": {
    "colab": {
      "name": "Welcome To Colaboratory",
      "toc_visible": true,
      "provenance": [],
      "include_colab_link": true
    },
    "kernelspec": {
      "display_name": "Python 3",
      "name": "python3"
    }
  },
  "nbformat": 4,
  "nbformat_minor": 0
}