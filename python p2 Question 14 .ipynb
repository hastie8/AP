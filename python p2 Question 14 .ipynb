{
  "cells": [
    {
      "cell_type": "markdown",
      "metadata": {
        "id": "view-in-github",
        "colab_type": "text"
      },
      "source": [
        "<a href=\"https://colab.research.google.com/github/hastie8/AP/blob/main/python%20p2%20Question%2014%20.ipynb\" target=\"_parent\"><img src=\"https://colab.research.google.com/assets/colab-badge.svg\" alt=\"Open In Colab\"/></a>"
      ]
    },
    {
      "cell_type": "code",
      "source": [
        "Day = input(\" please enter a day of the week: \")\n",
        "if Day == \" Monday \":\n",
        "  print(\" Lunes \")\n",
        "elif Day == \" Tuesday \":\n",
        "  print(\" Martes \")\n",
        "elif Day == \" Wednesday \":\n",
        "  print(\" Miercoles \")\n",
        "elif Day == \" Thursday \":\n",
        "  print(\" Jueves \")\n",
        "elif Day == \" Friday \":\n",
        "  print(\" Viernes \")\n",
        "elif Day == \" Saturday \":\n",
        "  print(\" Sabado \")\n",
        "else:\n",
        "  print(\" Domingo \")"
      ],
      "metadata": {
        "id": "-AnV9eqdc-rv",
        "outputId": "f2f92fd2-4b87-44b6-b65c-6082e09d620c",
        "colab": {
          "base_uri": "https://localhost:8080/"
        }
      },
      "execution_count": 14,
      "outputs": [
        {
          "output_type": "stream",
          "name": "stdout",
          "text": [
            " please enter a day of the week: sunday\n",
            " Domingo \n"
          ]
        }
      ]
    }
  ],
  "metadata": {
    "colab": {
      "name": "Welcome To Colaboratory",
      "toc_visible": true,
      "provenance": [],
      "include_colab_link": true
    },
    "kernelspec": {
      "display_name": "Python 3",
      "name": "python3"
    }
  },
  "nbformat": 4,
  "nbformat_minor": 0
}