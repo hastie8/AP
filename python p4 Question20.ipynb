{
  "cells": [
    {
      "cell_type": "markdown",
      "metadata": {
        "id": "view-in-github",
        "colab_type": "text"
      },
      "source": [
        "<a href=\"https://colab.research.google.com/github/hastie8/AP/blob/main/python%20p4%20Question20.ipynb\" target=\"_parent\"><img src=\"https://colab.research.google.com/assets/colab-badge.svg\" alt=\"Open In Colab\"/></a>"
      ]
    },
    {
      "cell_type": "code",
      "source": [
        "matrix = [[1]*9 for j in range(6)]\n",
        "for row in matrix :\n",
        "   print(' '.join(map(str,row)))"
      ],
      "metadata": {
        "id": "2Vll8RclWjg5",
        "outputId": "d5285b78-f63a-45a3-a1e0-e257aee41d1b",
        "colab": {
          "base_uri": "https://localhost:8080/"
        }
      },
      "execution_count": 190,
      "outputs": [
        {
          "output_type": "stream",
          "name": "stdout",
          "text": [
            "1 1 1 1 1 1 1 1 1\n",
            "1 1 1 1 1 1 1 1 1\n",
            "1 1 1 1 1 1 1 1 1\n",
            "1 1 1 1 1 1 1 1 1\n",
            "1 1 1 1 1 1 1 1 1\n",
            "1 1 1 1 1 1 1 1 1\n"
          ]
        }
      ]
    }
  ],
  "metadata": {
    "colab": {
      "name": "Welcome To Colaboratory",
      "toc_visible": true,
      "provenance": [],
      "include_colab_link": true
    },
    "kernelspec": {
      "display_name": "Python 3",
      "name": "python3"
    }
  },
  "nbformat": 4,
  "nbformat_minor": 0
}