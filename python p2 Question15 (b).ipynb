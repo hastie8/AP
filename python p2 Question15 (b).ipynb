{
  "cells": [
    {
      "cell_type": "markdown",
      "metadata": {
        "id": "view-in-github",
        "colab_type": "text"
      },
      "source": [
        "<a href=\"https://colab.research.google.com/github/hastie8/AP/blob/main/python%20p2%20Question15%20(b).ipynb\" target=\"_parent\"><img src=\"https://colab.research.google.com/assets/colab-badge.svg\" alt=\"Open In Colab\"/></a>"
      ]
    },
    {
      "cell_type": "code",
      "source": [
        "i= 3\n",
        "j= 7\n",
        "k= 5\n",
        "# i , j , and k are numbers\n",
        "if  i < j:\n",
        "   if j < k:\n",
        "       i = j\n",
        "   else:\n",
        "      j = k\n",
        "else:\n",
        "   if j > k:\n",
        "       j = i\n",
        "   else:\n",
        "       i = k\n",
        "print(\" i = \" , i ,\" j = \" , j ,\" k = \" , k )"
      ],
      "metadata": {
        "colab": {
          "base_uri": "https://localhost:8080/"
        },
        "id": "Qp-3CeIo29kN",
        "outputId": "7cbb89dd-1f81-4a59-a4b6-64264187ad53"
      },
      "execution_count": 25,
      "outputs": [
        {
          "output_type": "stream",
          "name": "stdout",
          "text": [
            " i =  3  j =  5  k =  5\n"
          ]
        }
      ]
    }
  ],
  "metadata": {
    "colab": {
      "name": "Welcome To Colaboratory",
      "toc_visible": true,
      "provenance": [],
      "include_colab_link": true
    },
    "kernelspec": {
      "display_name": "Python 3",
      "name": "python3"
    }
  },
  "nbformat": 4,
  "nbformat_minor": 0
}