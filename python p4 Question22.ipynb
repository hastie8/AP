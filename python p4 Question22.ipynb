{
  "cells": [
    {
      "cell_type": "markdown",
      "metadata": {
        "id": "view-in-github",
        "colab_type": "text"
      },
      "source": [
        "<a href=\"https://colab.research.google.com/github/hastie8/AP/blob/main/python%20p4%20Question22.ipynb\" target=\"_parent\"><img src=\"https://colab.research.google.com/assets/colab-badge.svg\" alt=\"Open In Colab\"/></a>"
      ]
    },
    {
      "cell_type": "code",
      "source": [
        "def check_square_list(lst):\n",
        "  n = len(lst)\n",
        "  for i in range(n):\n",
        "    row_sum = sum(lst[i])\n",
        "    col_sum = sum([lst[j][i] for j in range(n)])\n",
        "    if row_sum == col_sum :\n",
        "      return True\n",
        "  return False"
      ],
      "metadata": {
        "id": "UpH6g6jHDl46"
      },
      "execution_count": 172,
      "outputs": []
    },
    {
      "cell_type": "code",
      "source": [
        "#Example usage :\n",
        "lst =[[1,2,3],\n",
        "     [4,5,6],\n",
        "     [7,8,9]]\n",
        "print(check_square_list(lst))"
      ],
      "metadata": {
        "id": "8MuauZ-THWLL",
        "outputId": "f35581d6-1d3a-428c-f6f2-c53cc1727d3e",
        "colab": {
          "base_uri": "https://localhost:8080/"
        }
      },
      "execution_count": 173,
      "outputs": [
        {
          "output_type": "stream",
          "name": "stdout",
          "text": [
            "True\n"
          ]
        }
      ]
    },
    {
      "cell_type": "code",
      "source": [
        "#Example usage :\n",
        "lst2 = [[0,8,7],\n",
        "       [4,5,6]]\n",
        "print(check_square_list(lst2))"
      ],
      "metadata": {
        "id": "XsK-IKo2JM1p",
        "outputId": "c1c3d1e9-4a8f-4b18-d113-9910b62cc49c",
        "colab": {
          "base_uri": "https://localhost:8080/"
        }
      },
      "execution_count": 178,
      "outputs": [
        {
          "output_type": "stream",
          "name": "stdout",
          "text": [
            "False\n"
          ]
        }
      ]
    }
  ],
  "metadata": {
    "colab": {
      "name": "Welcome To Colaboratory",
      "toc_visible": true,
      "provenance": [],
      "include_colab_link": true
    },
    "kernelspec": {
      "display_name": "Python 3",
      "name": "python3"
    }
  },
  "nbformat": 4,
  "nbformat_minor": 0
}