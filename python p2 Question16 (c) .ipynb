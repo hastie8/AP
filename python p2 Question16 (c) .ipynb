{
  "cells": [
    {
      "cell_type": "markdown",
      "metadata": {
        "id": "view-in-github",
        "colab_type": "text"
      },
      "source": [
        "<a href=\"https://colab.research.google.com/github/hastie8/AP/blob/main/python%20p2%20Question16%20(c)%20.ipynb\" target=\"_parent\"><img src=\"https://colab.research.google.com/assets/colab-badge.svg\" alt=\"Open In Colab\"/></a>"
      ]
    },
    {
      "cell_type": "code",
      "source": [
        "val = int(input())\n",
        "if val < 10:\n",
        "   if val != 5:\n",
        "      print(\" wow \", end='')\n",
        "   else:\n",
        "       val += 1\n",
        "else:\n",
        "   if  val == 17:\n",
        "       val += 10\n",
        "   else:\n",
        "       print(\" whoa \", end='')\n",
        "print(val)       "
      ],
      "metadata": {
        "colab": {
          "base_uri": "https://localhost:8080/"
        },
        "id": "FR1B-0DhKubY",
        "outputId": "d74ee723-4bce-4385-8e7f-7b332009d631"
      },
      "execution_count": 46,
      "outputs": [
        {
          "output_type": "stream",
          "name": "stdout",
          "text": [
            "5\n",
            "6\n"
          ]
        }
      ]
    }
  ],
  "metadata": {
    "colab": {
      "name": "Welcome To Colaboratory",
      "toc_visible": true,
      "provenance": [],
      "include_colab_link": true
    },
    "kernelspec": {
      "display_name": "Python 3",
      "name": "python3"
    }
  },
  "nbformat": 4,
  "nbformat_minor": 0
}