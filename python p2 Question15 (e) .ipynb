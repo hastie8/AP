{
  "cells": [
    {
      "cell_type": "markdown",
      "metadata": {
        "id": "view-in-github",
        "colab_type": "text"
      },
      "source": [
        "<a href=\"https://colab.research.google.com/github/hastie8/AP/blob/main/python%20p2%20Question15%20(e)%20.ipynb\" target=\"_parent\"><img src=\"https://colab.research.google.com/assets/colab-badge.svg\" alt=\"Open In Colab\"/></a>"
      ]
    },
    {
      "cell_type": "code",
      "source": [
        "i= 7\n",
        "j= 3\n",
        "k= 5\n",
        "# i , j , and k are numbers\n",
        "if i < j:\n",
        "  if j < k:\n",
        "     i = j\n",
        "  else:\n",
        "     j = k\n",
        "else:\n",
        "   if j > k:\n",
        "      j = i\n",
        "   else: \n",
        "      i = k\n",
        "print(\" i = \", i ,\" j = \", j ,\" k = \", k )\n"
      ],
      "metadata": {
        "id": "LitRWJr979CU",
        "outputId": "620ce026-7ee7-484b-b7c8-c46498e84064",
        "colab": {
          "base_uri": "https://localhost:8080/"
        }
      },
      "execution_count": 31,
      "outputs": [
        {
          "output_type": "stream",
          "name": "stdout",
          "text": [
            " i =  5  j =  3  k =  5\n"
          ]
        }
      ]
    }
  ],
  "metadata": {
    "colab": {
      "name": "Welcome To Colaboratory",
      "toc_visible": true,
      "provenance": [],
      "include_colab_link": true
    },
    "kernelspec": {
      "display_name": "Python 3",
      "name": "python3"
    }
  },
  "nbformat": 4,
  "nbformat_minor": 0
}