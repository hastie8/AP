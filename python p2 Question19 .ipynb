{
  "cells": [
    {
      "cell_type": "markdown",
      "metadata": {
        "id": "view-in-github",
        "colab_type": "text"
      },
      "source": [
        "<a href=\"https://colab.research.google.com/github/hastie8/AP/blob/main/python%20p2%20Question19%20.ipynb\" target=\"_parent\"><img src=\"https://colab.research.google.com/assets/colab-badge.svg\" alt=\"Open In Colab\"/></a>"
      ]
    },
    {
      "cell_type": "code",
      "source": [
        "print(\" please enter five integer values: \")\n",
        "number1 = int(input(\" please enter value 1: \"))\n",
        "number2 = int(input(\" please enter value 2: \"))\n",
        "number3 = int(input(\" please enter value 3: \"))\n",
        "number4 = int(input(\" please enter value 4: \"))\n",
        "number5 = int(input(\" please enter value 5: \"))\n",
        "\n",
        "if number1 == number2 or number1 == number3 or number1 == number4 or number1 == number5:\n",
        "  print(\" DUPLICATES \")\n",
        "elif number2 == number1 or number2 == number3 or number2 == number4 or number2 == number5:\n",
        "\n",
        "  print(\" DUPLICATES \")\n",
        "\n",
        "elif number3 == number1 or number3 == number2 or number3 == number4 or number3 == number5:\n",
        "\n",
        "  print(\" DUPLICATES \")\n",
        "     \n",
        "elif number4 == number1 or number4 == number2 or number4 == number3 or number4 == number5:\n",
        "\n",
        "  print(\" DUPLICATES \")\n",
        "\n",
        "elif number5 == number1 or number5 == number2 or number5 == number3 or number5 == number4:\n",
        "\n",
        "  print(\" DUPLICATES \")\n",
        "\n",
        "else:\n",
        "\n",
        "    print(\" ALL UNIQUE \")\n",
        "     \n"
      ],
      "metadata": {
        "colab": {
          "base_uri": "https://localhost:8080/"
        },
        "id": "FR1B-0DhKubY",
        "outputId": "138ae98f-ff3c-4de1-e1bf-47e61c15d66b"
      },
      "execution_count": 63,
      "outputs": [
        {
          "output_type": "stream",
          "name": "stdout",
          "text": [
            " please enter five integer values: \n",
            " please enter value 1: 14\n",
            " please enter value 2: 11\n",
            " please enter value 3: 23\n",
            " please enter value 4: 54\n",
            " please enter value 5: 9\n",
            " ALL UNIQUE \n"
          ]
        }
      ]
    }
  ],
  "metadata": {
    "colab": {
      "name": "Welcome To Colaboratory",
      "toc_visible": true,
      "provenance": [],
      "include_colab_link": true
    },
    "kernelspec": {
      "display_name": "Python 3",
      "name": "python3"
    }
  },
  "nbformat": 4,
  "nbformat_minor": 0
}